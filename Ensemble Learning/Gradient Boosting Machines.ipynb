{
 "cells": [
  {
   "cell_type": "markdown",
   "metadata": {},
   "source": [
    "# **Tutorial: Gradient Boosting Machines**\n",
    "### By Kostas Hatalis\n",
    "\n",
    "**Prerequisite Notebooks:** *Decision Trees, Ensemble Learning, Boosting*"
   ]
  },
  {
   "cell_type": "markdown",
   "metadata": {},
   "source": [
    "___\n",
    "\n",
    "Gradiant Boosting / Stochastic Gradient Boosting / Gradiant Boosting Trees / Gradiant Boosting Machines \n",
    "\n",
    "1. xgboost\n",
    "2. lightgbm\n",
    "3. catboost\n"
   ]
  },
  {
   "cell_type": "code",
   "execution_count": null,
   "metadata": {},
   "outputs": [],
   "source": []
  }
 ],
 "metadata": {
  "kernelspec": {
   "display_name": "Python 3",
   "language": "python",
   "name": "python3"
  },
  "language_info": {
   "codemirror_mode": {
    "name": "ipython",
    "version": 3
   },
   "file_extension": ".py",
   "mimetype": "text/x-python",
   "name": "python",
   "nbconvert_exporter": "python",
   "pygments_lexer": "ipython3",
   "version": "3.6.5"
  }
 },
 "nbformat": 4,
 "nbformat_minor": 2
}
